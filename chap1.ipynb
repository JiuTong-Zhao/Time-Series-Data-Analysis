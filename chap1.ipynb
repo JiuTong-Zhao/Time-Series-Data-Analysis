{
 "cells": [
  {
   "cell_type": "code",
   "execution_count": 2,
   "metadata": {},
   "outputs": [
    {
     "name": "stderr",
     "output_type": "stream",
     "text": [
      "<>:52: SyntaxWarning: invalid escape sequence '\\s'\n",
      "<>:55: SyntaxWarning: invalid escape sequence '\\s'\n",
      "<>:52: SyntaxWarning: invalid escape sequence '\\s'\n",
      "<>:55: SyntaxWarning: invalid escape sequence '\\s'\n",
      "C:\\Users\\Administrator\\AppData\\Local\\Temp\\ipykernel_4044\\3826654839.py:52: SyntaxWarning: invalid escape sequence '\\s'\n",
      "  perula_df = pd.read_csv(read_path + 'matlab_perula.txt', header = None, sep = '\\s+')\n",
      "C:\\Users\\Administrator\\AppData\\Local\\Temp\\ipykernel_4044\\3826654839.py:55: SyntaxWarning: invalid escape sequence '\\s'\n",
      "  jet_df = pd.read_csv(read_path + 'matlab_jet.txt', header = None, sep = '\\s+')\n"
     ]
    }
   ],
   "source": [
    "import bottleneck as bn\n",
    "import matplotlib\n",
    "import matplotlib.dates as mdates\n",
    "import matplotlib.patheffects as pe\n",
    "import matplotlib.pyplot as plt\n",
    "import matplotlib.ticker as ticker\n",
    "import numpy as np\n",
    "import pandas as pd\n",
    "import scienceplots\n",
    "import scipy\n",
    "import scipy.signal\n",
    "import scipy.special\n",
    "import scipy.stats\n",
    "import sklearn.decomposition\n",
    "import astropy.io\n",
    "import datetime\n",
    "import astropy.time\n",
    "import pandas as pd\n",
    "from scipy.signal import butter, filtfilt\n",
    "import pywt\n",
    "import ssqueezepy\n",
    "import matplotlib.dates as mdate\n",
    "\n",
    "import scipy.ndimage\n",
    "import ssqueezepy\n",
    "import numpy as np\n",
    "\n",
    "\n",
    "from matplotlib.patches import Rectangle\n",
    "from mpl_toolkits.axes_grid1.inset_locator import inset_axes\n",
    "\n",
    "plt.style.use(['science', 'nature', 'notebook', 'grid', 'high-vis'])\n",
    "cmap = 'jet'\n",
    "\n",
    "\n",
    "figsize_short = (8, 4)\n",
    "figsize_normal = (8, 6)\n",
    "figsize_tall = (8, 8)\n",
    "plt.rcParams['figure.figsize'] = figsize_short\n",
    "plt.rcParams['axes.labelpad'] = 6.0\n",
    "plt.rcParams['legend.frameon'] = True\n",
    "plt.rcParams['legend.framealpha'] = 0.8\n",
    "plt.rcParams['legend.edgecolor'] = 'none'\n",
    "\n",
    "\n",
    "title_font = {'fontsize': 16, 'weight': 'bold', 'style': 'italic'}\n",
    "path_effect = [pe.withStroke(linewidth=2.0, foreground=\"k\")]\n",
    "\n",
    "read_path = 'docs/Data/'\n",
    "save_path = 'docs/Figure/'\n",
    "\n",
    "perula_df = pd.read_csv(read_path + 'matlab_perula.txt', header = None, sep = '\\s+')\n",
    "matlab_perula = matplotlib.colors.LinearSegmentedColormap.from_list('matlab_perula', np.array(perula_df))\n",
    "\n",
    "jet_df = pd.read_csv(read_path + 'matlab_jet.txt', header = None, sep = '\\s+')\n",
    "matlab_jet = matplotlib.colors.LinearSegmentedColormap.from_list('matlab_jet', np.array(jet_df))\n",
    "\n",
    "%matplotlib ipympl"
   ]
  },
  {
   "cell_type": "code",
   "execution_count": null,
   "metadata": {},
   "outputs": [],
   "source": [
    "omega0 = 2 * np.pi * 6.0\n",
    "\n",
    "N = 2 ** 10\n",
    "t = np.linspace(0, 1, N, endpoint=False)\n",
    "dt = t[1] - t[0]\n",
    "fs = 1 / dt  # Sampling frequency\n",
    "\n",
    "sig_sin = np.sin(omega0 * t)\n",
    "sig_cos = np.cos(omega0 * t)\n",
    "\n",
    "# f0: Frequency at t = 0\n",
    "# f1: Frequency at t = t1\n",
    "sig_chrip = scipy.signal.chirp(t, f0 = omega0 / 2 / np.pi, t1 = 1, f1 = omega0 / 2 / np.pi * 3)\n",
    "\n",
    "# fc: central frequency\n",
    "# bw: bandwidth\n",
    "sig_gauss_pulse = scipy.signal.gausspulse((t - np.mean(t)), fc = omega0 / 1 / np.pi, bw = 0.5)\n",
    "\n",
    "sig_square = scipy.signal.square(omega0 * t)\n",
    "\n",
    "sig_sawtooth = scipy.signal.sawtooth(omega0 * t)\n",
    "\n",
    "# idx : None or int or tuple of int or 'mid', optional\n",
    "sig_unit_impulse = scipy.signal.unit_impulse(t.size, idx = 'mid')"
   ]
  }
 ],
 "metadata": {
  "kernelspec": {
   "display_name": "ts",
   "language": "python",
   "name": "python3"
  },
  "language_info": {
   "codemirror_mode": {
    "name": "ipython",
    "version": 3
   },
   "file_extension": ".py",
   "mimetype": "text/x-python",
   "name": "python",
   "nbconvert_exporter": "python",
   "pygments_lexer": "ipython3",
   "version": "3.13.3"
  }
 },
 "nbformat": 4,
 "nbformat_minor": 2
}
