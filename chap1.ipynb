{
 "cells": [
  {
   "cell_type": "code",
   "execution_count": 1,
   "metadata": {},
   "outputs": [
    {
     "name": "stderr",
     "output_type": "stream",
     "text": [
      "<>:52: SyntaxWarning: invalid escape sequence '\\s'\n",
      "<>:55: SyntaxWarning: invalid escape sequence '\\s'\n",
      "<>:52: SyntaxWarning: invalid escape sequence '\\s'\n",
      "<>:55: SyntaxWarning: invalid escape sequence '\\s'\n",
      "C:\\Users\\Administrator\\AppData\\Local\\Temp\\ipykernel_30752\\3826654839.py:52: SyntaxWarning: invalid escape sequence '\\s'\n",
      "  perula_df = pd.read_csv(read_path + 'matlab_perula.txt', header = None, sep = '\\s+')\n",
      "C:\\Users\\Administrator\\AppData\\Local\\Temp\\ipykernel_30752\\3826654839.py:55: SyntaxWarning: invalid escape sequence '\\s'\n",
      "  jet_df = pd.read_csv(read_path + 'matlab_jet.txt', header = None, sep = '\\s+')\n"
     ]
    }
   ],
   "source": [
    "import bottleneck as bn\n",
    "import matplotlib\n",
    "import matplotlib.dates as mdates\n",
    "import matplotlib.patheffects as pe\n",
    "import matplotlib.pyplot as plt\n",
    "import matplotlib.ticker as ticker\n",
    "import numpy as np\n",
    "import pandas as pd\n",
    "import scienceplots\n",
    "import scipy\n",
    "import scipy.signal\n",
    "import scipy.special\n",
    "import scipy.stats\n",
    "import sklearn.decomposition\n",
    "import astropy.io\n",
    "import datetime\n",
    "import astropy.time\n",
    "import pandas as pd\n",
    "from scipy.signal import butter, filtfilt\n",
    "import pywt\n",
    "import ssqueezepy\n",
    "import matplotlib.dates as mdate\n",
    "\n",
    "import scipy.ndimage\n",
    "import ssqueezepy\n",
    "import numpy as np\n",
    "\n",
    "\n",
    "from matplotlib.patches import Rectangle\n",
    "from mpl_toolkits.axes_grid1.inset_locator import inset_axes\n",
    "\n",
    "plt.style.use(['science', 'nature', 'notebook', 'grid', 'high-vis'])\n",
    "cmap = 'jet'\n",
    "\n",
    "\n",
    "figsize_short = (8, 4)\n",
    "figsize_normal = (8, 6)\n",
    "figsize_tall = (8, 8)\n",
    "plt.rcParams['figure.figsize'] = figsize_short\n",
    "plt.rcParams['axes.labelpad'] = 6.0\n",
    "plt.rcParams['legend.frameon'] = True\n",
    "plt.rcParams['legend.framealpha'] = 0.8\n",
    "plt.rcParams['legend.edgecolor'] = 'none'\n",
    "\n",
    "\n",
    "title_font = {'fontsize': 16, 'weight': 'bold', 'style': 'italic'}\n",
    "path_effect = [pe.withStroke(linewidth=2.0, foreground=\"k\")]\n",
    "\n",
    "read_path = 'docs/Data/'\n",
    "save_path = 'docs/Figure/'\n",
    "\n",
    "perula_df = pd.read_csv(read_path + 'matlab_perula.txt', header = None, sep = '\\s+')\n",
    "matlab_perula = matplotlib.colors.LinearSegmentedColormap.from_list('matlab_perula', np.array(perula_df))\n",
    "\n",
    "jet_df = pd.read_csv(read_path + 'matlab_jet.txt', header = None, sep = '\\s+')\n",
    "matlab_jet = matplotlib.colors.LinearSegmentedColormap.from_list('matlab_jet', np.array(jet_df))\n",
    "\n",
    "%matplotlib ipympl"
   ]
  },
  {
   "cell_type": "code",
   "execution_count": null,
   "metadata": {},
   "outputs": [
    {
     "data": {
      "text/plain": [
       "np.float64(946684800.0)"
      ]
     },
     "execution_count": 15,
     "metadata": {},
     "output_type": "execute_result"
    }
   ],
   "source": [
    "# Using pandas\n",
    "t_pd = pd.Timestamp('2000-01-01T00:00:00')\n",
    "\n",
    "# Using astropy\n",
    "t_astropy = astropy.time.Time('2000-01-01T00:00:00')\n",
    "\n",
    "# Using datetime\n",
    "t_datetime = datetime.datetime(2000, 1, 1, 0, 0)\n",
    "\n",
    "# Using numpy\n",
    "t_np = np.datetime64('2000-01-01T00:00:00')\n",
    "\n",
    "# np.datetime64 to Unix timestamp\n",
    "t_np.astype(float)\n",
    "# np.float64(946684800.0)"
   ]
  },
  {
   "cell_type": "code",
   "execution_count": 44,
   "metadata": {},
   "outputs": [
    {
     "name": "stdout",
     "output_type": "stream",
     "text": [
      "np.datetime64 to pd.Timestamp: 2023-01-01 12:00:00\n",
      "pd.Timestamp to datetime.datetime: 2023-01-01 12:00:00\n",
      "Array of datetime.datetime to astropy.time.Time: [datetime.datetime(2023, 1, 1, 12, 0) datetime.datetime(2023, 1, 2, 12, 0)]\n",
      "datetime.datetime to astropy.time.Time: 2023-01-01 12:00:00\n",
      "astropy.time.Time to np.datetime64: 2023-01-01T12:00:00.000000\n",
      "astropy.time.Time to pd.Timestamp: 2023-01-01 12:00:00\n",
      "datetime.datetime to np.datetime64: 2023-01-01T12:00:00.000000\n",
      "np.datetime64 to datetime.datetime: 2023-01-01 12:00:00\n",
      "datetime_array to numpy.datetime64 array: ['2023-01-01T12:00:00.000000' '2023-01-02T12:00:00.000000']\n",
      "datetime_array to pandas.Timestamp array: [Timestamp('2023-01-01 12:00:00'), Timestamp('2023-01-02 12:00:00')]\n",
      "datetime_array to astropy.time.Time: [datetime.datetime(2023, 1, 1, 12, 0) datetime.datetime(2023, 1, 2, 12, 0)]\n"
     ]
    }
   ],
   "source": [
    "# Convert np.datetime64 to pd.Timestamp\n",
    "t_np = np.datetime64('2023-01-01T12:00:00')\n",
    "t_pd = pd.Timestamp(t_np)\n",
    "print(\"np.datetime64 to pd.Timestamp:\", t_pd)\n",
    "\n",
    "# Convert pd.Timestamp to datetime.datetime\n",
    "t_datetime = t_pd.to_pydatetime()\n",
    "print(\"pd.Timestamp to datetime.datetime:\", t_datetime)\n",
    "\n",
    "# Convert datetime.datetime to astropy.time.Time\n",
    "t_astropy = astropy.time.Time(t_datetime)\n",
    "# Convert an array of datetime.datetime to astropy.time.Time\n",
    "datetime_array = [datetime.datetime(2023, 1, 1, 12, 0), datetime.datetime(2023, 1, 2, 12, 0)]\n",
    "t_astropy_array = astropy.time.Time(datetime_array)\n",
    "print(\"Array of datetime.datetime to astropy.time.Time:\", t_astropy_array)\n",
    "print(\"datetime.datetime to astropy.time.Time:\", t_astropy)\n",
    "\n",
    "# Convert astropy.time.Time to np.datetime64\n",
    "t_np_from_astropy = np.datetime64(t_astropy.to_datetime())\n",
    "print(\"astropy.time.Time to np.datetime64:\", t_np_from_astropy)\n",
    "\n",
    "# Convert astropy.time.Time to pd.Timestamp\n",
    "t_pd_from_astropy = pd.Timestamp(t_astropy.to_datetime())\n",
    "print(\"astropy.time.Time to pd.Timestamp:\", t_pd_from_astropy)\n",
    "\n",
    "# Convert datetime.datetime to np.datetime64\n",
    "t_np_from_datetime = np.datetime64(t_datetime)\n",
    "print(\"datetime.datetime to np.datetime64:\", t_np_from_datetime)\n",
    "\n",
    "# Convert np.datetime64 to datetime.datetime\n",
    "t_datetime_from_np = pd.Timestamp(t_np).to_pydatetime()\n",
    "print(\"np.datetime64 to datetime.datetime:\", t_datetime_from_np)\n",
    "# Generate numpy.datetime64 array using year_array, month_array, and day_array\n",
    "year = np.array([2023, 2023, 2023])\n",
    "month = np.array([1, 2, 3])\n",
    "day = np.array([1, 2, 3])\n",
    "t_array = np.array([np.datetime64(f\"{y:04d}-{m:02d}-{d:02d}\") for y, m, d in zip(year, month, day)])\n",
    "\n",
    "# Generate numpy.datetime64 array using year_array and doy_array (day of year)\n",
    "year = 2023\n",
    "doy = np.array([1, 32, 60])  # Day of year for Jan 1, Feb 1, Mar 1 in a non-leap year\n",
    "# t_array = np.array([np.datetime64(f\"{y:04d}-01-01\") + np.timedelta64(d - 1, 'D') for y, d in zip(year, doy)])\n",
    "t_array = np.datetime64(f\"{year:04d}-01-01\") + (doy - 1).astype('timedelta64[D]')\n",
    "\n",
    "# Convert datetime_array to numpy.datetime64 array\n",
    "datetime_array_to_np = np.array([np.datetime64(dt) for dt in datetime_array])\n",
    "print(\"datetime_array to numpy.datetime64 array:\", datetime_array_to_np)\n",
    "\n",
    "# Convert datetime_array to pandas.Timestamp array\n",
    "datetime_array_to_pd = [pd.Timestamp(dt) for dt in datetime_array]\n",
    "print(\"datetime_array to pandas.Timestamp array:\", datetime_array_to_pd)\n",
    "\n",
    "# Convert datetime_array to astropy.time.Time\n",
    "datetime_array_to_astropy = astropy.time.Time(datetime_array)\n",
    "print(\"datetime_array to astropy.time.Time:\", datetime_array_to_astropy)"
   ]
  },
  {
   "cell_type": "code",
   "execution_count": 36,
   "metadata": {},
   "outputs": [
    {
     "data": {
      "text/plain": [
       "(np.datetime64('1972-06-30T23:59:58'),\n",
       " np.datetime64('1972-06-30T23:59:59'),\n",
       " np.datetime64('1972-07-01T00:00:00'))"
      ]
     },
     "execution_count": 36,
     "metadata": {},
     "output_type": "execute_result"
    }
   ],
   "source": [
    "t0, t1, t2 = astropy.time.Time('1972-06-30T23:59:59'), astropy.time.Time('1972-06-30T23:59:60'), astropy.time.Time('1972-07-01T00:00:00')\n",
    "# t0.to_value('unix').astype('datetime64[s]'), t1.to_value('unix').astype('datetime64[s]'), t2.to_value('unix').astype('datetime64[s]')\n",
    "t0.utc.to_value('unix').astype('datetime64[s]'), t1.utc.to_value('unix').astype('datetime64[s]'), t2.utc.to_value('unix').astype('datetime64[s]')"
   ]
  },
  {
   "cell_type": "code",
   "execution_count": null,
   "metadata": {},
   "outputs": [
    {
     "data": {
      "text/plain": [
       "np.float64(9.466848e+17)"
      ]
     },
     "execution_count": 39,
     "metadata": {},
     "output_type": "execute_result"
    }
   ],
   "source": [
    "t_np = np.datetime64('2000-01-01T00:00:00')\n",
    "t_np_ms = t_np.astype('datetime64[ms]') # np.datetime64('2000-01-01T00:00:00.000')\n",
    "t_np_ns = t_np.astype('datetime64[ns]') # np.datetime64('2000-01-01T00:00:00.000000000')\n",
    "\n",
    "t_np.astype(float) # np.float64(946684800.0)\n",
    "t_np.astype('datetime64[ns]').astype(float) # np.float64(9.466848e+17)"
   ]
  },
  {
   "cell_type": "code",
   "execution_count": 42,
   "metadata": {},
   "outputs": [
    {
     "data": {
      "text/plain": [
       "array([0, 1, 2, 3, 4, 5, 6, 7, 8, 9], dtype='timedelta64[s]')"
      ]
     },
     "execution_count": 42,
     "metadata": {},
     "output_type": "execute_result"
    }
   ],
   "source": [
    "np.arange(10).astype('timedelta64[s]')"
   ]
  },
  {
   "cell_type": "code",
   "execution_count": null,
   "metadata": {},
   "outputs": [],
   "source": [
    "omega0 = 2 * np.pi * 6.0\n",
    "\n",
    "N = 2 ** 10\n",
    "t = np.linspace(0, 1, N, endpoint=False)\n",
    "dt = t[1] - t[0]\n",
    "fs = 1 / dt  # Sampling frequency\n",
    "\n",
    "sig_sin = np.sin(omega0 * t)\n",
    "sig_cos = np.cos(omega0 * t)\n",
    "\n",
    "# f0: Frequency at t = 0\n",
    "# f1: Frequency at t = t1\n",
    "sig_chrip = scipy.signal.chirp(t, f0 = omega0 / 2 / np.pi, t1 = 1, f1 = omega0 / 2 / np.pi * 3)\n",
    "\n",
    "# fc: central frequency\n",
    "# bw: bandwidth\n",
    "sig_gauss_pulse = scipy.signal.gausspulse((t - np.mean(t)), fc = omega0 / 1 / np.pi, bw = 0.5)\n",
    "\n",
    "sig_square = scipy.signal.square(omega0 * t)\n",
    "\n",
    "sig_sawtooth = scipy.signal.sawtooth(omega0 * t)\n",
    "\n",
    "# idx : None or int or tuple of int or 'mid', optional\n",
    "sig_unit_impulse = scipy.signal.unit_impulse(t.size, idx = 'mid')"
   ]
  }
 ],
 "metadata": {
  "kernelspec": {
   "display_name": "ts",
   "language": "python",
   "name": "python3"
  },
  "language_info": {
   "codemirror_mode": {
    "name": "ipython",
    "version": 3
   },
   "file_extension": ".py",
   "mimetype": "text/x-python",
   "name": "python",
   "nbconvert_exporter": "python",
   "pygments_lexer": "ipython3",
   "version": "3.13.3"
  }
 },
 "nbformat": 4,
 "nbformat_minor": 2
}
